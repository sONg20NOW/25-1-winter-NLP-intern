{
  "nbformat": 4,
  "nbformat_minor": 0,
  "metadata": {
    "colab": {
      "provenance": [],
      "toc_visible": true,
      "gpuType": "T4",
      "authorship_tag": "ABX9TyNU2nfYUn+sNkf1Iz0lIiJC",
      "include_colab_link": true
    },
    "kernelspec": {
      "name": "python3",
      "display_name": "Python 3"
    },
    "language_info": {
      "name": "python"
    },
    "accelerator": "GPU"
  },
  "cells": [
    {
      "cell_type": "markdown",
      "metadata": {
        "id": "view-in-github",
        "colab_type": "text"
      },
      "source": [
        "<a href=\"https://colab.research.google.com/github/sONg20NOW/25-1-winter-NLP-intern/blob/main/25_1_NLP_intern.ipynb\" target=\"_parent\"><img src=\"https://colab.research.google.com/assets/colab-badge.svg\" alt=\"Open In Colab\"/></a>"
      ]
    },
    {
      "cell_type": "markdown",
      "source": [
        "## 01. [기초] - 딥 러닝을 시작하기 전에\n"
      ],
      "metadata": {
        "id": "emoplT0qBt-v"
      }
    },
    {
      "cell_type": "markdown",
      "source": [
        "nltk 설치"
      ],
      "metadata": {
        "id": "4jMnqQc-n3kI"
      }
    },
    {
      "cell_type": "code",
      "execution_count": null,
      "metadata": {
        "colab": {
          "base_uri": "https://localhost:8080/"
        },
        "id": "G_6lBNf7na2G",
        "outputId": "8e40cee8-2d63-4e3c-af9d-e7246639b6c8"
      },
      "outputs": [
        {
          "output_type": "stream",
          "name": "stdout",
          "text": [
            "Requirement already satisfied: nltk in /usr/local/lib/python3.10/dist-packages (3.9.1)\n",
            "Requirement already satisfied: click in /usr/local/lib/python3.10/dist-packages (from nltk) (8.1.7)\n",
            "Requirement already satisfied: joblib in /usr/local/lib/python3.10/dist-packages (from nltk) (1.4.2)\n",
            "Requirement already satisfied: regex>=2021.8.3 in /usr/local/lib/python3.10/dist-packages (from nltk) (2024.11.6)\n",
            "Requirement already satisfied: tqdm in /usr/local/lib/python3.10/dist-packages (from nltk) (4.67.1)\n"
          ]
        }
      ],
      "source": [
        "# pip install nltk"
      ]
    },
    {
      "cell_type": "code",
      "source": [
        "import nltk\n",
        "nltk.__version__"
      ],
      "metadata": {
        "colab": {
          "base_uri": "https://localhost:8080/",
          "height": 35
        },
        "id": "eZf8Nnh1njF7",
        "outputId": "3d2e830e-8fc2-4d5c-8c24-ae1ae3c398aa"
      },
      "execution_count": null,
      "outputs": [
        {
          "output_type": "execute_result",
          "data": {
            "text/plain": [
              "'3.9.1'"
            ],
            "application/vnd.google.colaboratory.intrinsic+json": {
              "type": "string"
            }
          },
          "metadata": {},
          "execution_count": 3
        }
      ]
    },
    {
      "cell_type": "markdown",
      "source": [
        "nltk data 추가 설치"
      ],
      "metadata": {
        "id": "sSzabDljn7gK"
      }
    },
    {
      "cell_type": "code",
      "source": [
        "# nltk.download()"
      ],
      "metadata": {
        "id": "0w3gblOBnz1M"
      },
      "execution_count": null,
      "outputs": []
    },
    {
      "cell_type": "markdown",
      "source": [
        "KoNLPy 설치\n"
      ],
      "metadata": {
        "id": "OekkI65QoMAZ"
      }
    },
    {
      "cell_type": "code",
      "source": [
        "# pip install konlpy"
      ],
      "metadata": {
        "colab": {
          "base_uri": "https://localhost:8080/"
        },
        "id": "8dxxqrjboQW9",
        "outputId": "f24d06d8-4ea0-4f0d-c64d-aa59a4e9b1d2"
      },
      "execution_count": null,
      "outputs": [
        {
          "output_type": "stream",
          "name": "stdout",
          "text": [
            "Collecting konlpy\n",
            "  Downloading konlpy-0.6.0-py2.py3-none-any.whl.metadata (1.9 kB)\n",
            "Collecting JPype1>=0.7.0 (from konlpy)\n",
            "  Downloading jpype1-1.5.1-cp310-cp310-manylinux_2_17_x86_64.manylinux2014_x86_64.whl.metadata (4.9 kB)\n",
            "Requirement already satisfied: lxml>=4.1.0 in /usr/local/lib/python3.10/dist-packages (from konlpy) (5.3.0)\n",
            "Requirement already satisfied: numpy>=1.6 in /usr/local/lib/python3.10/dist-packages (from konlpy) (1.26.4)\n",
            "Requirement already satisfied: packaging in /usr/local/lib/python3.10/dist-packages (from JPype1>=0.7.0->konlpy) (24.2)\n",
            "Downloading konlpy-0.6.0-py2.py3-none-any.whl (19.4 MB)\n",
            "\u001b[2K   \u001b[90m━━━━━━━━━━━━━━━━━━━━━━━━━━━━━━━━━━━━━━━━\u001b[0m \u001b[32m19.4/19.4 MB\u001b[0m \u001b[31m57.1 MB/s\u001b[0m eta \u001b[36m0:00:00\u001b[0m\n",
            "\u001b[?25hDownloading jpype1-1.5.1-cp310-cp310-manylinux_2_17_x86_64.manylinux2014_x86_64.whl (493 kB)\n",
            "\u001b[2K   \u001b[90m━━━━━━━━━━━━━━━━━━━━━━━━━━━━━━━━━━━━━━━━\u001b[0m \u001b[32m493.8/493.8 kB\u001b[0m \u001b[31m28.4 MB/s\u001b[0m eta \u001b[36m0:00:00\u001b[0m\n",
            "\u001b[?25hInstalling collected packages: JPype1, konlpy\n",
            "Successfully installed JPype1-1.5.1 konlpy-0.6.0\n"
          ]
        }
      ]
    },
    {
      "cell_type": "code",
      "source": [
        "import konlpy\n",
        "konlpy.__version__"
      ],
      "metadata": {
        "colab": {
          "base_uri": "https://localhost:8080/",
          "height": 35
        },
        "id": "lEvJhf9WoUKz",
        "outputId": "a79880a6-a04f-4e89-8aac-4b2b6eda9692"
      },
      "execution_count": null,
      "outputs": [
        {
          "output_type": "execute_result",
          "data": {
            "text/plain": [
              "'0.6.0'"
            ],
            "application/vnd.google.colaboratory.intrinsic+json": {
              "type": "string"
            }
          },
          "metadata": {},
          "execution_count": 6
        }
      ]
    },
    {
      "cell_type": "markdown",
      "source": [
        "Pandas, Numpy, Matplotlib 설치"
      ],
      "metadata": {
        "id": "_slkTfl6pLeU"
      }
    },
    {
      "cell_type": "code",
      "source": [
        "# pip install pandas"
      ],
      "metadata": {
        "colab": {
          "base_uri": "https://localhost:8080/"
        },
        "id": "aNbluGGgpSyt",
        "outputId": "ffd10e5d-b87f-414f-caf7-7f75255141a3"
      },
      "execution_count": null,
      "outputs": [
        {
          "output_type": "stream",
          "name": "stdout",
          "text": [
            "Requirement already satisfied: pandas in /usr/local/lib/python3.10/dist-packages (2.2.2)\n",
            "Requirement already satisfied: numpy>=1.22.4 in /usr/local/lib/python3.10/dist-packages (from pandas) (1.26.4)\n",
            "Requirement already satisfied: python-dateutil>=2.8.2 in /usr/local/lib/python3.10/dist-packages (from pandas) (2.8.2)\n",
            "Requirement already satisfied: pytz>=2020.1 in /usr/local/lib/python3.10/dist-packages (from pandas) (2024.2)\n",
            "Requirement already satisfied: tzdata>=2022.7 in /usr/local/lib/python3.10/dist-packages (from pandas) (2024.2)\n",
            "Requirement already satisfied: six>=1.5 in /usr/local/lib/python3.10/dist-packages (from python-dateutil>=2.8.2->pandas) (1.17.0)\n"
          ]
        }
      ]
    },
    {
      "cell_type": "code",
      "source": [
        "# pip install numpy"
      ],
      "metadata": {
        "colab": {
          "base_uri": "https://localhost:8080/"
        },
        "id": "QWLpCfoLpu6Y",
        "outputId": "d58a866b-3be2-4f95-c326-586a8994f6ba"
      },
      "execution_count": null,
      "outputs": [
        {
          "output_type": "stream",
          "name": "stdout",
          "text": [
            "Requirement already satisfied: numpy in /usr/local/lib/python3.10/dist-packages (1.26.4)\n"
          ]
        }
      ]
    },
    {
      "cell_type": "code",
      "source": [
        "# pip install matplotlib"
      ],
      "metadata": {
        "colab": {
          "base_uri": "https://localhost:8080/"
        },
        "id": "sTWGBMfJpwIF",
        "outputId": "148a8917-a5ca-4342-b179-036b49d6a8d9"
      },
      "execution_count": null,
      "outputs": [
        {
          "output_type": "stream",
          "name": "stdout",
          "text": [
            "Requirement already satisfied: matplotlib in /usr/local/lib/python3.10/dist-packages (3.8.0)\n",
            "Requirement already satisfied: contourpy>=1.0.1 in /usr/local/lib/python3.10/dist-packages (from matplotlib) (1.3.1)\n",
            "Requirement already satisfied: cycler>=0.10 in /usr/local/lib/python3.10/dist-packages (from matplotlib) (0.12.1)\n",
            "Requirement already satisfied: fonttools>=4.22.0 in /usr/local/lib/python3.10/dist-packages (from matplotlib) (4.55.3)\n",
            "Requirement already satisfied: kiwisolver>=1.0.1 in /usr/local/lib/python3.10/dist-packages (from matplotlib) (1.4.7)\n",
            "Requirement already satisfied: numpy<2,>=1.21 in /usr/local/lib/python3.10/dist-packages (from matplotlib) (1.26.4)\n",
            "Requirement already satisfied: packaging>=20.0 in /usr/local/lib/python3.10/dist-packages (from matplotlib) (24.2)\n",
            "Requirement already satisfied: pillow>=6.2.0 in /usr/local/lib/python3.10/dist-packages (from matplotlib) (11.0.0)\n",
            "Requirement already satisfied: pyparsing>=2.3.1 in /usr/local/lib/python3.10/dist-packages (from matplotlib) (3.2.0)\n",
            "Requirement already satisfied: python-dateutil>=2.7 in /usr/local/lib/python3.10/dist-packages (from matplotlib) (2.8.2)\n",
            "Requirement already satisfied: six>=1.5 in /usr/local/lib/python3.10/dist-packages (from python-dateutil>=2.7->matplotlib) (1.17.0)\n"
          ]
        }
      ]
    },
    {
      "cell_type": "markdown",
      "source": [
        "### Pandas 사용법\n",
        "1. Series: 1차원 배열\n",
        "2. DataFrame: 2차원 리스트\n",
        "\n",
        "엑셀과 같은 외부 데이터를 읽어올 수도 있다"
      ],
      "metadata": {
        "id": "_QCpf_vkqmvC"
      }
    },
    {
      "cell_type": "code",
      "source": [
        "import pandas as pd"
      ],
      "metadata": {
        "id": "dnTt1oCPpZ1X"
      },
      "execution_count": null,
      "outputs": []
    },
    {
      "cell_type": "markdown",
      "source": [
        "### Numpy 사용법\n",
        "1. t.ndim : t의 차원\n",
        "2. t.shape: t의 크기\n",
        "\n",
        "나머지는 컴비개에서 해봤으니 생략..."
      ],
      "metadata": {
        "id": "eSVxID0DrhrP"
      }
    },
    {
      "cell_type": "code",
      "source": [
        "import numpy as np"
      ],
      "metadata": {
        "id": "Vs9YI2znrkXa"
      },
      "execution_count": null,
      "outputs": []
    },
    {
      "cell_type": "markdown",
      "source": [
        "### Matplotlib 사용법\n",
        "데이터를 차트나 플롯으로 시각화\n",
        "1. plt.title() : 표 제목\n",
        "2. plt.plot([x 값들], [y 값들]) : 그래프 그리기\n",
        "3. plt.xlabel() : 축 이름 삽입\n",
        "4. plt.legend() : 각 선이 어떤 데이터를 나타내는지\n",
        "5. plt.show() : 차트 그리기"
      ],
      "metadata": {
        "id": "0qe37eYZscHr"
      }
    },
    {
      "cell_type": "code",
      "source": [
        "import matplotlib as mpl"
      ],
      "metadata": {
        "id": "D0boR5xksgna"
      },
      "execution_count": null,
      "outputs": []
    },
    {
      "cell_type": "markdown",
      "source": [
        "## 02. [기초] - 파이토치 기초(PyTorch Basic)\n"
      ],
      "metadata": {
        "id": "UA1gUOe9B2Zs"
      }
    },
    {
      "cell_type": "markdown",
      "source": [
        "### PyTorch 사용법\n"
      ],
      "metadata": {
        "id": "3gMBOP1F5DEA"
      }
    },
    {
      "cell_type": "markdown",
      "source": [
        "#### 5) 뷰(View) - 원소의 수를 유지하면서 텐서의 크기 변경. 매우 중요!\n"
      ],
      "metadata": {
        "id": "TgZqblmK6wYK"
      }
    },
    {
      "cell_type": "code",
      "source": [
        "import torch\n",
        "\n",
        "t = np.array([\n",
        "    [\n",
        "        [0, 1, 2],\n",
        "        [3, 4, 5]\n",
        "    ],\n",
        "    [\n",
        "        [6, 7, 8],\n",
        "        [9, 10, 11]\n",
        "    ]\n",
        "])\n",
        "\n",
        "ft = torch.FloatTensor(t)"
      ],
      "metadata": {
        "id": "558zPlXU5G76"
      },
      "execution_count": null,
      "outputs": []
    },
    {
      "cell_type": "code",
      "source": [
        "print(ft.shape)"
      ],
      "metadata": {
        "colab": {
          "base_uri": "https://localhost:8080/"
        },
        "id": "tEVc4OQu5XFC",
        "outputId": "0cc740d7-727e-42de-bcef-5f2a72cb7640"
      },
      "execution_count": null,
      "outputs": [
        {
          "output_type": "stream",
          "name": "stdout",
          "text": [
            "torch.Size([2, 2, 3])\n"
          ]
        }
      ]
    },
    {
      "cell_type": "code",
      "source": [
        "print(ft.view(-1, 3))"
      ],
      "metadata": {
        "colab": {
          "base_uri": "https://localhost:8080/"
        },
        "id": "gj9BUDqP5w51",
        "outputId": "7d5c7c09-fb26-4701-9004-6c2f4daacb4f"
      },
      "execution_count": null,
      "outputs": [
        {
          "output_type": "stream",
          "name": "stdout",
          "text": [
            "tensor([[ 0.,  1.,  2.],\n",
            "        [ 3.,  4.,  5.],\n",
            "        [ 6.,  7.,  8.],\n",
            "        [ 9., 10., 11.]])\n"
          ]
        }
      ]
    },
    {
      "cell_type": "markdown",
      "source": [
        "#### 7) 언스퀴즈(Unsqueeze) - 특정 위치에 1인 차원을 추가한다.\n"
      ],
      "metadata": {
        "id": "qFAAiAOO6zFL"
      }
    },
    {
      "cell_type": "code",
      "source": [
        "ft = torch.FloatTensor([0, 1, 2])\n",
        "print(ft.shape)"
      ],
      "metadata": {
        "colab": {
          "base_uri": "https://localhost:8080/"
        },
        "id": "10JDPaw_61cS",
        "outputId": "f3241ce9-a24e-4847-a5d7-a72ab4962094"
      },
      "execution_count": null,
      "outputs": [
        {
          "output_type": "stream",
          "name": "stdout",
          "text": [
            "torch.Size([3])\n"
          ]
        }
      ]
    },
    {
      "cell_type": "code",
      "source": [
        "print(ft.unsqueeze(0))\n",
        "print(ft.unsqueeze(1))\n"
      ],
      "metadata": {
        "colab": {
          "base_uri": "https://localhost:8080/"
        },
        "id": "-xatHvHW63Qa",
        "outputId": "6778b1d6-0a36-4949-9707-52fd39a015ce"
      },
      "execution_count": null,
      "outputs": [
        {
          "output_type": "stream",
          "name": "stdout",
          "text": [
            "tensor([[0., 1., 2.]])\n",
            "tensor([[0.],\n",
            "        [1.],\n",
            "        [2.]])\n"
          ]
        }
      ]
    },
    {
      "cell_type": "markdown",
      "source": [
        "#### 8) 타입 캐스팅(Type Casting)\n"
      ],
      "metadata": {
        "id": "x38CPkF97znr"
      }
    },
    {
      "cell_type": "code",
      "source": [
        "print(ft)\n",
        "ft = ft.int()\n",
        "print(ft)"
      ],
      "metadata": {
        "colab": {
          "base_uri": "https://localhost:8080/"
        },
        "id": "kpkqUppk77_S",
        "outputId": "34849a4f-1804-4743-8844-d2f853d51d22"
      },
      "execution_count": null,
      "outputs": [
        {
          "output_type": "stream",
          "name": "stdout",
          "text": [
            "tensor([0., 1., 2.])\n",
            "tensor([0, 1, 2], dtype=torch.int32)\n"
          ]
        }
      ]
    },
    {
      "cell_type": "markdown",
      "source": [
        "#### 9) 연결하기(concatenate)\n"
      ],
      "metadata": {
        "id": "4vs2nUDC8IhH"
      }
    },
    {
      "cell_type": "markdown",
      "source": [
        "dim = 0 : 첫번째 차원(행)을 늘려라"
      ],
      "metadata": {
        "id": "8CSiW7rg8Rv-"
      }
    },
    {
      "cell_type": "code",
      "source": [
        "x = torch.FloatTensor([[1, 2], [3, 4]])\n",
        "y = torch.FloatTensor([[5, 6], [7, 8]])\n",
        "\n",
        "print(torch.cat([x, y], dim=0))"
      ],
      "metadata": {
        "colab": {
          "base_uri": "https://localhost:8080/"
        },
        "id": "Tuh0O3Fm8LLl",
        "outputId": "a8b0d28e-932d-4b2c-8a9f-22d4ba294a7a"
      },
      "execution_count": null,
      "outputs": [
        {
          "output_type": "stream",
          "name": "stdout",
          "text": [
            "tensor([[1., 2.],\n",
            "        [3., 4.],\n",
            "        [5., 6.],\n",
            "        [7., 8.]])\n"
          ]
        }
      ]
    },
    {
      "cell_type": "markdown",
      "source": [
        "dim = 1 : 두번째 차원(열)을 늘려라"
      ],
      "metadata": {
        "id": "VlQuhIXt8eHv"
      }
    },
    {
      "cell_type": "code",
      "source": [
        "print(torch.cat([x, y], dim=1))"
      ],
      "metadata": {
        "colab": {
          "base_uri": "https://localhost:8080/"
        },
        "id": "CDFNcRkL8a8i",
        "outputId": "9b82b737-2900-4870-e2e8-9a1d32987d76"
      },
      "execution_count": null,
      "outputs": [
        {
          "output_type": "stream",
          "name": "stdout",
          "text": [
            "tensor([[1., 2., 5., 6.],\n",
            "        [3., 4., 7., 8.]])\n"
          ]
        }
      ]
    },
    {
      "cell_type": "markdown",
      "source": [
        "#### 10) 스택킹(Stacking)\n",
        "concatenate와 비슷하지만 스택킹이 더 많은 연산을 포함하고 있다"
      ],
      "metadata": {
        "id": "d2USUJL18jgp"
      }
    },
    {
      "cell_type": "code",
      "source": [
        "x = torch.FloatTensor([1, 4])\n",
        "y = torch.FloatTensor([2, 5])\n",
        "z = torch.FloatTensor([3, 6])\n",
        "\n",
        "print(torch.stack([x, y, z]))\n",
        "# above code is same as below\n",
        "# print(torch.cat([x.unsqueeze(0), y.unsqueeze(0), z.unsqueeze(0)], dim=0))\n"
      ],
      "metadata": {
        "colab": {
          "base_uri": "https://localhost:8080/"
        },
        "id": "yqpXhk7O8svm",
        "outputId": "375abc68-3382-468d-a5b9-71639edffa1c"
      },
      "execution_count": null,
      "outputs": [
        {
          "output_type": "stream",
          "name": "stdout",
          "text": [
            "tensor([[1., 4.],\n",
            "        [2., 5.],\n",
            "        [3., 6.]])\n"
          ]
        }
      ]
    },
    {
      "cell_type": "code",
      "source": [
        "print(torch.stack([x, y, z], dim=1))"
      ],
      "metadata": {
        "colab": {
          "base_uri": "https://localhost:8080/"
        },
        "id": "_0X-KKLM88Ua",
        "outputId": "2250ea08-bb08-4bf5-c249-392106c45cf1"
      },
      "execution_count": null,
      "outputs": [
        {
          "output_type": "stream",
          "name": "stdout",
          "text": [
            "tensor([[1., 2., 3.],\n",
            "        [4., 5., 6.]])\n"
          ]
        }
      ]
    },
    {
      "cell_type": "markdown",
      "source": [
        "#### 12) In-place Operation (덮어쓰기 연산)\n",
        "연산 뒤에 '_'을 붙이면 기존의 값을 덮어쓰기 한다"
      ],
      "metadata": {
        "id": "tdPlCrIn9imK"
      }
    },
    {
      "cell_type": "code",
      "source": [
        "x = torch.FloatTensor([[1, 2], [3, 4]])\n",
        "\n",
        "print(x.mul(2.)) # 곱하기 2를 수행한 결과를 출력\n",
        "print(x) # 기존의 값 출력\n",
        "\n",
        "print(x.mul_(2.))  # 곱하기 2를 수행한 결과를 변수 x에 값을 저장하면서 결과를 출력\n",
        "print(x) # 기존의 값 출력\n"
      ],
      "metadata": {
        "colab": {
          "base_uri": "https://localhost:8080/"
        },
        "id": "-jgZoHdn9joe",
        "outputId": "cc6cea56-0ab7-45e0-81bc-125b99650e32"
      },
      "execution_count": null,
      "outputs": [
        {
          "output_type": "stream",
          "name": "stdout",
          "text": [
            "tensor([[2., 4.],\n",
            "        [6., 8.]])\n",
            "tensor([[1., 2.],\n",
            "        [3., 4.]])\n",
            "tensor([[2., 4.],\n",
            "        [6., 8.]])\n",
            "tensor([[2., 4.],\n",
            "        [6., 8.]])\n"
          ]
        }
      ]
    },
    {
      "cell_type": "markdown",
      "source": [
        "### Python Class\n",
        "클래스 = 붕어빵 틀\n",
        "똑같은 기능을 하는 함수를 독립적으로 구현하려면"
      ],
      "metadata": {
        "id": "rFPjdKtW_bQT"
      }
    },
    {
      "cell_type": "code",
      "source": [
        "class Calculator:\n",
        "    def __init__(self): # 객체 생성 시 호출될 때 실행되는 초기화 함수. 이를 생성자라고 한다.\n",
        "        self.result = 0\n",
        "\n",
        "    def add(self, num): # 객체 생성 후 사용할 수 있는 함수.\n",
        "        self.result += num\n",
        "        return self.result\n"
      ],
      "metadata": {
        "id": "B80-T-hc_k1O"
      },
      "execution_count": null,
      "outputs": []
    },
    {
      "cell_type": "code",
      "source": [
        "cal1 = Calculator()\n",
        "cal2 = Calculator()"
      ],
      "metadata": {
        "id": "KKb-PRus_pQ7"
      },
      "execution_count": null,
      "outputs": []
    },
    {
      "cell_type": "code",
      "source": [
        "print(cal1.add(3))\n",
        "print(cal1.add(4))\n",
        "print(cal2.add(3))\n",
        "print(cal2.add(7))"
      ],
      "metadata": {
        "colab": {
          "base_uri": "https://localhost:8080/"
        },
        "id": "dpTTPTVN_rua",
        "outputId": "21112612-63d6-42ae-b392-9011aa617cac"
      },
      "execution_count": null,
      "outputs": [
        {
          "output_type": "stream",
          "name": "stdout",
          "text": [
            "3\n",
            "7\n",
            "3\n",
            "10\n"
          ]
        }
      ]
    },
    {
      "cell_type": "markdown",
      "source": [
        "## 03. [ML 입문] - 머신 러닝 입문하기(Machine Learning Basics)\n"
      ],
      "metadata": {
        "id": "qAk0KnNAB6mO"
      }
    },
    {
      "cell_type": "markdown",
      "source": [
        "### 03-01 선형 회귀와 자동 미분(Linear Regression and Autograd)\n"
      ],
      "metadata": {
        "id": "spJkhhsFB9fF"
      }
    },
    {
      "cell_type": "markdown",
      "source": [
        "#### 3. 비용 함수(Cost function)에 대한 이해\n",
        "비용 함수 = 손실 함수 = 오차 함수 = 목적 함수\n",
        "\n",
        "MSE(Mean Squared Error) : 오차의 제곱합에 대한 평균\n"
      ],
      "metadata": {
        "id": "07ZMX2e3CGD0"
      }
    },
    {
      "cell_type": "markdown",
      "source": [
        "#### 4. 옵티마이저 - 경사 하강법(Gradient Descent)\n",
        "Optimizer = 손실 함수 최소화 하는 방법\n"
      ],
      "metadata": {
        "id": "WC-_pHjJDYSE"
      }
    },
    {
      "cell_type": "code",
      "source": [
        "import torch\n",
        "import torch.nn as nn\n",
        "import torch.nn.functional as F\n",
        "import torch.optim as optim\n",
        "\n",
        "# 현재 실습하고 있는 파이썬 코드를 재실행해도 다음에도 같은 결과가 나오도록 랜덤 시드(random seed)를 줍니다.\n",
        "torch.manual_seed(1)"
      ],
      "metadata": {
        "colab": {
          "base_uri": "https://localhost:8080/"
        },
        "id": "ofXqkHCfDoJ0",
        "outputId": "faeef7b1-cbc6-4a75-9a2c-b0e51e94801d"
      },
      "execution_count": null,
      "outputs": [
        {
          "output_type": "execute_result",
          "data": {
            "text/plain": [
              "<torch._C.Generator at 0x7dfd8be33170>"
            ]
          },
          "metadata": {},
          "execution_count": 40
        }
      ]
    },
    {
      "cell_type": "markdown",
      "source": [
        "train dataset 생성"
      ],
      "metadata": {
        "id": "d-wbHojaD9uY"
      }
    },
    {
      "cell_type": "code",
      "source": [
        "x_train = torch.FloatTensor([[1], [2], [3]])\n",
        "y_train = torch.FloatTensor([[2], [4], [6]])"
      ],
      "metadata": {
        "id": "GDJA7eyUDr_k"
      },
      "execution_count": null,
      "outputs": []
    },
    {
      "cell_type": "markdown",
      "source": [
        "W, b 초기화\n",
        "* requires_grad=True : 이 변수는 학습을 통해 계속 값이 변경되는 변수이다..."
      ],
      "metadata": {
        "id": "R1UPaXG2D8gm"
      }
    },
    {
      "cell_type": "code",
      "source": [
        "# 가중치 W를 0으로 초기화하고 학습을 통해 값이 변경되는 변수임을 명시함.\n",
        "W = torch.zeros(1, requires_grad=True)\n",
        "# 가중치 W를 출력\n",
        "print(W)\n",
        "\n",
        "b = torch.zeros(1, requires_grad=True)\n",
        "print(b)\n"
      ],
      "metadata": {
        "colab": {
          "base_uri": "https://localhost:8080/"
        },
        "id": "fGdUHGxCDz0M",
        "outputId": "68788cfa-4574-4d3c-a354-851bb28c52de"
      },
      "execution_count": null,
      "outputs": [
        {
          "output_type": "stream",
          "name": "stdout",
          "text": [
            "tensor([0.], requires_grad=True)\n",
            "tensor([0.], requires_grad=True)\n"
          ]
        }
      ]
    },
    {
      "cell_type": "markdown",
      "source": [
        "가설 세우기\n"
      ],
      "metadata": {
        "id": "eCbrpm9cEaWJ"
      }
    },
    {
      "cell_type": "code",
      "source": [
        "hypothesis = x_train * W + b\n",
        "print(hypothesis)\n"
      ],
      "metadata": {
        "colab": {
          "base_uri": "https://localhost:8080/"
        },
        "id": "voH1VA_1EbVJ",
        "outputId": "fa0af080-243e-43f4-f2fa-cb552de1b433"
      },
      "execution_count": null,
      "outputs": [
        {
          "output_type": "stream",
          "name": "stdout",
          "text": [
            "tensor([[0.],\n",
            "        [0.],\n",
            "        [0.]], grad_fn=<AddBackward0>)\n"
          ]
        }
      ]
    },
    {
      "cell_type": "markdown",
      "source": [
        "비용 함수 선언"
      ],
      "metadata": {
        "id": "vij-wtC0ECIl"
      }
    },
    {
      "cell_type": "code",
      "source": [
        "# 앞서 배운 torch.mean으로 평균을 구한다.\n",
        "cost = torch.mean((hypothesis - y_train) ** 2)\n",
        "print(cost)\n"
      ],
      "metadata": {
        "colab": {
          "base_uri": "https://localhost:8080/"
        },
        "id": "yWnvrK-AEDuo",
        "outputId": "c7607c0c-ecf8-4d85-d5f1-8726a59e1793"
      },
      "execution_count": null,
      "outputs": [
        {
          "output_type": "stream",
          "name": "stdout",
          "text": [
            "tensor(18.6667, grad_fn=<MeanBackward0>)\n"
          ]
        }
      ]
    },
    {
      "cell_type": "markdown",
      "source": [
        "경사 하강법 구현\n",
        "\n",
        "* SGD(Stochastic Gradient Descent) = GD의 일종  \n",
        "모든 데이터의 기울기를 반영하는 GD와 달리 무작위 데이터 하나의 기울기만 반영하여 GD 수행\n",
        "* lr = learning rate\n",
        "\n",
        "\n"
      ],
      "metadata": {
        "id": "UjuugUEEEmhT"
      }
    },
    {
      "cell_type": "code",
      "source": [
        "optimizer = optim.SGD([W, b], lr=0.01)\n",
        "\n"
      ],
      "metadata": {
        "id": "aGSM7WFKEmJn"
      },
      "execution_count": null,
      "outputs": []
    }
  ]
}